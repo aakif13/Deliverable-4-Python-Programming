{
  "nbformat": 4,
  "nbformat_minor": 0,
  "metadata": {
    "colab": {
      "provenance": []
    },
    "kernelspec": {
      "name": "python3",
      "display_name": "Python 3"
    },
    "language_info": {
      "name": "python"
    }
  },
  "cells": [
    {
      "cell_type": "code",
      "execution_count": 3,
      "metadata": {
        "id": "Te5fGRli1Vs3",
        "colab": {
          "base_uri": "https://localhost:8080/"
        },
        "outputId": "fc3816c3-2126-4975-af7e-01e069e1bb1c"
      },
      "outputs": [
        {
          "output_type": "stream",
          "name": "stdout",
          "text": [
            "Enter an integer number between 5 and 15: 4\n",
            "Invalid input. Please try again\n",
            "Enter an integer number between 5 and 15: ds\n",
            "Invalid input. Please try again\n",
            "Enter an integer number between 5 and 15: 5\n",
            "The elements of the array are: 26 32 38 20 26 \n",
            "The sum is: 142\n"
          ]
        }
      ],
      "source": [
        "# Import NumPy package\n",
        "import numpy as np\n",
        "\n",
        "# Randomly populate list with random numbers based on length defined by user\n",
        "def populate_list(input_len):\n",
        "    random_list = []\n",
        "    for i in range(input_len):\n",
        "        random_list.append(np.random.randint(10, 50))\n",
        "    return random_list\n",
        "\n",
        "# Return summation of created list\n",
        "def sum_list(gen_list):\n",
        "    return sum(gen_list)\n",
        "\n",
        "# Ask for and validate user input\n",
        "while True:\n",
        "  try:\n",
        "    user_input = int(input(\"Enter an integer number between 5 and 15: \"))\n",
        "    if 5 <= user_input <= 15:\n",
        "        break\n",
        "    else:\n",
        "      print(\"Invalid input. Please try again\")\n",
        "  except ValueError:\n",
        "    print(\"Invalid input. Please try again\")\n",
        "\n",
        "# Print values of randomly generated list\n",
        "user_list = populate_list(user_input)\n",
        "print(\"The elements of the array are:\", end = \" \")\n",
        "for element in user_list:\n",
        "  print(element, end = \" \")\n",
        "\n",
        "# Print list sum\n",
        "print()\n",
        "print(\"The sum is:\", sum_list(user_list))"
      ]
    }
  ]
}